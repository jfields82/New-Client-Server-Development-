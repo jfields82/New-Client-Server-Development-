{
 "cells": [
  {
   "cell_type": "code",
   "execution_count": 25,
   "metadata": {},
   "outputs": [],
   "source": [
    "# import AnimalShelter from AnimalShelter.ipynb\n",
    "%run AnimalShelter.ipynb import AnimalShelter"
   ]
  },
  {
   "cell_type": "code",
   "execution_count": 26,
   "metadata": {},
   "outputs": [],
   "source": [
    "# Initialize AnimalShelter object with username and password\n",
    "username = \"justin\"\n",
    "password = \"jfields82\"\n",
    "animal = AnimalShelter(username, password)"
   ]
  },
  {
   "cell_type": "code",
   "execution_count": 36,
   "metadata": {},
   "outputs": [
    {
     "name": "stdout",
     "output_type": "stream",
     "text": [
      "True\n"
     ]
    }
   ],
   "source": [
    "# Create/Insert document into animals collection\n",
    "document = { \n",
    "    \"1\": 1, \n",
    "    \"age_upon_outcome\": \"5 years\", \n",
    "    \"animal_id\": \"A77778910\", \n",
    "    \"animal_type\": \"Cat\", \n",
    "    \"breed\": \"Domestic Shorthair Mix\", \n",
    "    \"color\": \"Black/White\", \n",
    "    \"date_of_birth\": \"2014-04-10\", \n",
    "    \"datetime\": \"2017-04-11 09:00:00\", \n",
    "    \"monthyear\": \"2017-04-11T09:00:00\", \n",
    "    \"name\": \"App\",\n",
    "    \"outcome_subtype\": \"SCRP\", \n",
    "    \"outcome_type\": \"Transfer\",\n",
    "    \"sex_upon_outcome\": \"Neutered Male\", \n",
    "    \"location_lat\": 30.5066578739455, \n",
    "    \"location_long\": -97.3408780722188, \n",
    "    \"age_upon_outcome_in_weeks\": 156.767857142857\n",
    "}\n",
    "print(animal.create([document]))\n"
   ]
  },
  {
   "cell_type": "code",
   "execution_count": 41,
   "metadata": {},
   "outputs": [],
   "source": [
    "# Read data from animals collection\n",
    "\n",
    "query = {'animal_id': 'A77778910'}\n",
    "result = animal.read(query)\n",
    "\n",
    "# print data\n",
    "for document in result:\n",
    "    print(document)"
   ]
  },
  {
   "cell_type": "code",
   "execution_count": 38,
   "metadata": {},
   "outputs": [
    {
     "name": "stdout",
     "output_type": "stream",
     "text": [
      "<pymongo.results.UpdateResult object at 0x7fd1d43cf0c8>\n"
     ]
    }
   ],
   "source": [
    "# update datain animals collection\n",
    "\n",
    "query = {'animal_id': 'A77778910'}\n",
    "updated_data = {'age_upon_outcome': '7 years'}\n",
    "\n",
    "result = animal.update(query, updated_data)\n",
    "# print data\n",
    "print(result)"
   ]
  },
  {
   "cell_type": "code",
   "execution_count": 40,
   "metadata": {},
   "outputs": [
    {
     "name": "stdout",
     "output_type": "stream",
     "text": [
      "<pymongo.results.DeleteResult object at 0x7fd1d444e908>\n"
     ]
    }
   ],
   "source": [
    "# delete datain animals collection\n",
    "\n",
    "query = {'animal_id': 'A77778910'}\n",
    "\n",
    "result = animal.delete(query)\n",
    "# print data\n",
    "print(result)"
   ]
  },
  {
   "cell_type": "code",
   "execution_count": null,
   "metadata": {},
   "outputs": [],
   "source": []
  }
 ],
 "metadata": {
  "kernelspec": {
   "display_name": "Python 3",
   "language": "python",
   "name": "python3"
  },
  "language_info": {
   "codemirror_mode": {
    "name": "ipython",
    "version": 3
   },
   "file_extension": ".py",
   "mimetype": "text/x-python",
   "name": "python",
   "nbconvert_exporter": "python",
   "pygments_lexer": "ipython3",
   "version": "3.6.9"
  }
 },
 "nbformat": 4,
 "nbformat_minor": 2
}
