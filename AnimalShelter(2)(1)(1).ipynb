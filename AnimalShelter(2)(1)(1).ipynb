{
 "cells": [
  {
   "cell_type": "code",
   "execution_count": 3,
   "metadata": {},
   "outputs": [],
   "source": [
    "from pymongo import MongoClient\n",
    "from bson.objectid import ObjectId\n",
    "\n",
    "class AnimalShelter(object):\n",
    "    \n",
    "    \"\"\" CRUD operations for Animal collection in MongoDB \"\"\"\n",
    "    def __init__(self, username, password):\n",
    "        # Initializing the MongoClient. This helps to \n",
    "        # access the MongoDB databases and collections. \n",
    "\n",
    "        self.client = MongoClient('mongodb://%s:%s@localhost:41546' % (username, password))\n",
    "        self.database = self.client['AAC']\n",
    "\n",
    "# Complete this create method to implement the C in CRUD.\n",
    "\n",
    "    def create(self, data):\n",
    "        if data is not None:\n",
    "            # if data is not an array make it aray because we used insert_many\n",
    "            if not isinstance(data,list):\n",
    "                data = [data]                \n",
    "            try:\n",
    "                self.database.animals.insert_many(data)  # data should be dictionary \n",
    "                return True\n",
    "            except:\n",
    "                # return false if insert fail.\n",
    "                return False\n",
    "        else:\n",
    "            raise Exception(\"Nothing to save, because data parameter is empty\")\n",
    "\n",
    "# Create method to implement the R in CRUD. \n",
    "\n",
    "    def read(self, query):\n",
    "        try:\n",
    "            result = self.database.animals.find(query)\n",
    "            return result\n",
    "        except:\n",
    "            raise Exception(\"Read operation failed.\")\n",
    "            \n",
    "    def update(self, query, newValue):\n",
    "        try:\n",
    "            result = self.database.animals.update_one(query, {'$set': newValue})\n",
    "            return result\n",
    "        except:\n",
    "            raise Exception(\"Update operation failed.\")\n",
    "    \n",
    "    def delete(self, query):\n",
    "        try:\n",
    "            result = self.database.animals.delete_one(query)\n",
    "            return result\n",
    "        except:\n",
    "            raise Exception(\"Delete operation failed.\")\n",
    "        \n",
    "        \n",
    "    \n",
    " "
   ]
  },
  {
   "cell_type": "code",
   "execution_count": null,
   "metadata": {},
   "outputs": [],
   "source": []
  }
 ],
 "metadata": {
  "kernelspec": {
   "display_name": "Python 3",
   "language": "python",
   "name": "python3"
  },
  "language_info": {
   "codemirror_mode": {
    "name": "ipython",
    "version": 3
   },
   "file_extension": ".py",
   "mimetype": "text/x-python",
   "name": "python",
   "nbconvert_exporter": "python",
   "pygments_lexer": "ipython3",
   "version": "3.6.9"
  }
 },
 "nbformat": 4,
 "nbformat_minor": 2
}
